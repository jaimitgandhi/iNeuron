{
  "nbformat": 4,
  "nbformat_minor": 0,
  "metadata": {
    "kernelspec": {
      "display_name": "Python 3",
      "language": "python",
      "name": "python3"
    },
    "language_info": {
      "codemirror_mode": {
        "name": "ipython",
        "version": 3
      },
      "file_extension": ".py",
      "mimetype": "text/x-python",
      "name": "python",
      "nbconvert_exporter": "python",
      "pygments_lexer": "ipython3",
      "version": "3.7.4"
    },
    "colab": {
      "name": "Copy of Subjective Assignment - 2 - Python Function and List.ipynb",
      "provenance": [],
      "include_colab_link": true
    }
  },
  "cells": [
    {
      "cell_type": "markdown",
      "metadata": {
        "id": "view-in-github",
        "colab_type": "text"
      },
      "source": [
        "<a href=\"https://colab.research.google.com/github/jaimitgandhi/iNeuron/blob/master/Subjective_Assignment_2_Python_Function_and_List.ipynb\" target=\"_parent\"><img src=\"https://colab.research.google.com/assets/colab-badge.svg\" alt=\"Open In Colab\"/></a>"
      ]
    },
    {
      "cell_type": "markdown",
      "metadata": {
        "id": "sMZULlpy1dUe",
        "colab_type": "text"
      },
      "source": [
        "# Assignments"
      ]
    },
    {
      "cell_type": "markdown",
      "metadata": {
        "id": "C4ATkaC91dU6",
        "colab_type": "text"
      },
      "source": [
        "Q1. Write the Python function to get a string made of 4 copies of the last\n",
        "two characters of the specified string (length must be at least 2).\n",
        "\n",
        "    Sample function and result :\n",
        "    insert-end ('Python') -> abababab\n",
        "    insert-end('Exercises') -> jkjkjkjk"
      ]
    },
    {
      "cell_type": "code",
      "metadata": {
        "id": "_SxhWtrx1dU8",
        "colab_type": "code",
        "outputId": "15db3518-5e26-460d-b74c-321337f0fd38",
        "colab": {
          "base_uri": "https://localhost:8080/",
          "height": 50
        }
      },
      "source": [
        "def last_2char(str):\n",
        "  if len(str)>=2:\n",
        "    return str[-2:]*4\n",
        "  return \"Length is not enough\"\n",
        "\n",
        "print(last_2char(\"hellowygdh\"))\n",
        "print(last_2char('h'))"
      ],
      "execution_count": 0,
      "outputs": [
        {
          "output_type": "stream",
          "text": [
            "dhdhdhdh\n",
            "Length is not enough\n"
          ],
          "name": "stdout"
        }
      ]
    },
    {
      "cell_type": "markdown",
      "metadata": {
        "id": "7r7VpRvI1dVB",
        "colab_type": "text"
      },
      "source": [
        "Q2. Write the python function to get a string made of its first three\n",
        "characters of a specified string. If the length of the string is less than 3\n",
        "then return the original string.\n",
        "    \n",
        "    Sample function and result :\n",
        "    first-three('ipy') -> ipy\n",
        "    first-three('python') -> pyt"
      ]
    },
    {
      "cell_type": "code",
      "metadata": {
        "id": "q55Fg-411dVD",
        "colab_type": "code",
        "outputId": "adfeb9b3-a66d-4c4c-d1b0-5edc7e7e9357",
        "colab": {
          "base_uri": "https://localhost:8080/",
          "height": 50
        }
      },
      "source": [
        "def first_three(str):\n",
        "  if len(str) > 3:\n",
        "    return str[0:3]\n",
        "  return str\n",
        "\n",
        "str1 = first_three('ipynb')\n",
        "str2 = first_three('py')\n",
        "print(str1)\n",
        "print(str2)"
      ],
      "execution_count": 0,
      "outputs": [
        {
          "output_type": "stream",
          "text": [
            "ipy\n",
            "py\n"
          ],
          "name": "stdout"
        }
      ]
    },
    {
      "cell_type": "markdown",
      "metadata": {
        "id": "miqxeY2D1dVQ",
        "colab_type": "text"
      },
      "source": [
        "Q3. Write the Python program to find smallest window that contains all\n",
        "characters of the given string?\n",
        "\n",
        "    Original Strings:\n",
        "    asdaewsqgtwwsa\n",
        "    Smallest window that contains all characters of the said string:\n",
        "    Daewsqgt"
      ]
    },
    {
      "cell_type": "code",
      "metadata": {
        "id": "EI0VdmDK1dVR",
        "colab_type": "code",
        "colab": {}
      },
      "source": [
        "def unique(str):\n",
        "  total = 0\n",
        "  unique_list = []\n",
        "  for i in range(0,len(str)):\n",
        "    if str[i] not in unique_list:\n",
        "      unique_list.append(str[i])\n",
        "      total += 1\n",
        "  return total, unique_list\n",
        "\n",
        "str = 'asdaewsqgtwwsa'\n",
        "total, unique_list = unique(str)\n",
        "\n"
      ],
      "execution_count": 0,
      "outputs": []
    },
    {
      "cell_type": "markdown",
      "metadata": {
        "id": "arimi0Vb1dVX",
        "colab_type": "text"
      },
      "source": [
        "Q4. Write the Python program to count number of substrings from a\n",
        "given string of lowercase alphabets with exactly k distinct (given)\n",
        "characters?\n",
        "\n",
        "    Input a string (lowercase alphabets): wolf\n",
        "    Input k: 4\n",
        "    Number of substrings with exactly 4 distinct characters: 1"
      ]
    },
    {
      "cell_type": "code",
      "metadata": {
        "id": "l9kSYcP11dVY",
        "colab_type": "code",
        "outputId": "9aadacd9-7358-4ee8-f6c8-e1920a86df7d",
        "colab": {
          "base_uri": "https://localhost:8080/",
          "height": 34
        }
      },
      "source": [
        "def count_distict_string(str, k): \n",
        "    length_of_string = len(str) \n",
        "    total = 0\n",
        "    count = []\n",
        "    for i in range(27):\n",
        "      count.append(0)\n",
        "    \n",
        "    for i in range(0, length_of_string): \n",
        "        distinct_count = 0\n",
        "        count = [0] * 27\n",
        "        for j in range(i, length_of_string): \n",
        "            if(count[ord(str[j]) - 97] == 0): \n",
        "               distinct_count += 1\n",
        "            count[ord(str[j]) - 97] += 1\n",
        "  \n",
        "            if(distinct_count == k): \n",
        "                total += 1\n",
        "            if(distinct_count > k): \n",
        "                break\n",
        "  \n",
        "    return total      \n",
        "  \n",
        "\n",
        "str = \"iNeuron\"\n",
        "k = 3\n",
        "print(\"Total substrings with exactly {} k distinct characters is {}\".format(k,count_distict_string(str, k))) \n"
      ],
      "execution_count": 0,
      "outputs": [
        {
          "output_type": "stream",
          "text": [
            "Total substrings with exactly 3 k distinct characters is 5\n"
          ],
          "name": "stdout"
        }
      ]
    },
    {
      "cell_type": "markdown",
      "metadata": {
        "id": "BGMxUhQA1dVc",
        "colab_type": "text"
      },
      "source": [
        "Q5. Write the Python program to count number of non-empty\n",
        "substrings of the given string?\n",
        "\n",
        "    Input a string: w3resource\n",
        "    Number of substrings:\n",
        "    55"
      ]
    },
    {
      "cell_type": "code",
      "metadata": {
        "id": "vYpCEKsE1dVe",
        "colab_type": "code",
        "outputId": "5e69aefc-3485-41c3-fc52-9df5563a9d49",
        "colab": {
          "base_uri": "https://localhost:8080/",
          "height": 34
        }
      },
      "source": [
        "def count_total_substring(str): \n",
        "    length = len(str); \n",
        "    answer = int(length * (length + 1) / 2); \n",
        "    return answer\n",
        "  \n",
        "str = \"w3resource\"; \n",
        "print (count_total_substring(str));"
      ],
      "execution_count": 0,
      "outputs": [
        {
          "output_type": "stream",
          "text": [
            "55\n"
          ],
          "name": "stdout"
        }
      ]
    },
    {
      "cell_type": "markdown",
      "metadata": {
        "id": "1MVEL_Ea1dVj",
        "colab_type": "text"
      },
      "source": [
        "Q6. Write the Python program to count the number of strings where the\n",
        "string length is 2 or more, and first and last character are same\n",
        "from a given list of strings.\n",
        "\n",
        "    Sample List : ['abc', 'xyz', 'wxw', '1331']\n",
        "    Expected Result: 2"
      ]
    },
    {
      "cell_type": "code",
      "metadata": {
        "id": "VMSUcIKG1dVl",
        "colab_type": "code",
        "outputId": "6c592e21-1ac8-425b-83e8-1fedd4ed8a37",
        "colab": {
          "base_uri": "https://localhost:8080/",
          "height": 34
        }
      },
      "source": [
        "def count_str(list1):\n",
        "  total = 0\n",
        "  for element in list1:\n",
        "      if len(element) >=2 and element[0] == element[-1]:\n",
        "          total+=1\n",
        "  print(total)\n",
        "\n",
        "list1 = ['abc', 'xyz', 'wxw', '1331','a']\n",
        "count_str(list1)\n"
      ],
      "execution_count": 0,
      "outputs": [
        {
          "output_type": "stream",
          "text": [
            "2\n"
          ],
          "name": "stdout"
        }
      ]
    },
    {
      "cell_type": "markdown",
      "metadata": {
        "id": "QRpZTAAF1dV0",
        "colab_type": "text"
      },
      "source": [
        "Q7. Write the Python program to get a list, sorted in increasing order by\n",
        "the last element in each tuple from the given list of non-empty\n",
        "tuples?\n",
        "\n",
        "    Sample List - [ (2, 5), (1, 2), (4, 4), (2, 3), (2, 1) ]\n",
        "    Expected Result - [ (2, 1), (1, 2), (2, 3), (4, 4), (2, 5) ]"
      ]
    },
    {
      "cell_type": "code",
      "metadata": {
        "id": "3QWJ-w3p1dV2",
        "colab_type": "code",
        "outputId": "65f0bae5-6831-440c-df4a-b8f548c2b265",
        "colab": {
          "base_uri": "https://localhost:8080/",
          "height": 34
        }
      },
      "source": [
        "\n",
        "\n",
        "list1 = [ (2, 5), (1, 2), (4, 4), (2, 3), (2, 1) ]\n",
        "result= sorted(list1, key=lambda last_char : last_char[-1])\n",
        "print(result)"
      ],
      "execution_count": 0,
      "outputs": [
        {
          "output_type": "stream",
          "text": [
            "[(2, 1), (1, 2), (2, 3), (4, 4), (2, 5)]\n"
          ],
          "name": "stdout"
        }
      ]
    },
    {
      "cell_type": "markdown",
      "metadata": {
        "id": "WZvk8RHx1dWD",
        "colab_type": "text"
      },
      "source": [
        "Q8. Write the Python program to remove duplicates from a list?"
      ]
    },
    {
      "cell_type": "code",
      "metadata": {
        "id": "bRjkqQIW1dWF",
        "colab_type": "code",
        "outputId": "cd069ccb-a70b-48bd-a9ee-25b0173ba9ec",
        "colab": {
          "base_uri": "https://localhost:8080/",
          "height": 34
        }
      },
      "source": [
        "def Remove_Duplicate(duplicate): \n",
        "    answer = [] \n",
        "    for i in duplicate: \n",
        "        if i not in answer: \n",
        "            answer.append(i) \n",
        "    return answer \n",
        "      \n",
        "# Driver Code \n",
        "list1 = [11,22,333,44,5,44,66,333,5,5,5,777,66] \n",
        "print(Remove_Duplicate(list1)) "
      ],
      "execution_count": 0,
      "outputs": [
        {
          "output_type": "stream",
          "text": [
            "[11, 22, 333, 44, 5, 66, 777]\n"
          ],
          "name": "stdout"
        }
      ]
    },
    {
      "cell_type": "markdown",
      "metadata": {
        "id": "5lRGrnNY1dWP",
        "colab_type": "text"
      },
      "source": [
        "Q9. Write the Python program to find the list of words that are longer\n",
        "than n from a given list of words?"
      ]
    },
    {
      "cell_type": "code",
      "metadata": {
        "id": "3iGihSkr1dWR",
        "colab_type": "code",
        "outputId": "9526521b-f8f4-4c22-8fd5-592e85ad010e",
        "colab": {
          "base_uri": "https://localhost:8080/",
          "height": 34
        }
      },
      "source": [
        "def find_longer(list1,n):\n",
        "    answer = []\n",
        "    for item in list1:\n",
        "      if len(item)>n :\n",
        "        answer.append(item)\n",
        "    print(answer)\n",
        "\n",
        "list1 = ['abc', 'xyz', 'wxw', '1331','a']\n",
        "find_longer(list1,2)"
      ],
      "execution_count": 0,
      "outputs": [
        {
          "output_type": "stream",
          "text": [
            "['abc', 'xyz', 'wxw', '1331']\n"
          ],
          "name": "stdout"
        }
      ]
    },
    {
      "cell_type": "markdown",
      "metadata": {
        "id": "H28qx9Ir1dWW",
        "colab_type": "text"
      },
      "source": [
        "Q10. Write the Python program to print a specified list after removing the\n",
        "0th, 4th, and 5th elements?\n",
        "    \n",
        "    Sample List - ['Red', 'Green', 'White', 'Black', 'Pink', 'Yellow']\n",
        "    Expected Output - ['Green', 'White', 'Black']"
      ]
    },
    {
      "cell_type": "code",
      "metadata": {
        "id": "MqaD1Tle1dWX",
        "colab_type": "code",
        "outputId": "92fa6bd0-ab8e-4678-d606-0c9bb468b665",
        "colab": {
          "base_uri": "https://localhost:8080/",
          "height": 34
        }
      },
      "source": [
        "def list_remove_element(list1,list_remove_index):\n",
        "    result = []\n",
        "    for i in range(0,len(list1)):\n",
        "        if i>= len(list1):\n",
        "          continue\n",
        "        elif i not in list_remove_index:\n",
        "          result.append(list1[i])\n",
        "    return result\n",
        "\n",
        "\n",
        "list_remove_index=[0,4,5]\n",
        "list1 = ['Red', 'Green', 'White', 'Black', 'Pink', 'Yellow']\n",
        "print(list_remove_element(list1,list_remove_index))"
      ],
      "execution_count": 0,
      "outputs": [
        {
          "output_type": "stream",
          "text": [
            "['Green', 'White', 'Black']\n"
          ],
          "name": "stdout"
        }
      ]
    },
    {
      "cell_type": "markdown",
      "metadata": {
        "id": "UVgiQOJc1dWb",
        "colab_type": "text"
      },
      "source": [
        "Q11. Write the Python program to generate all permutations of a list in\n",
        "Python?"
      ]
    },
    {
      "cell_type": "code",
      "metadata": {
        "id": "oqpbqHj41dWd",
        "colab_type": "code",
        "outputId": "ed74900a-7d4d-4624-e384-0eefff976311",
        "colab": {
          "base_uri": "https://localhost:8080/",
          "height": 34
        }
      },
      "source": [
        "from itertools import permutations \n",
        "answer = list(permutations(range(1, 4))) \n",
        "print(answer)"
      ],
      "execution_count": 0,
      "outputs": [
        {
          "output_type": "stream",
          "text": [
            "[(1, 2, 3), (1, 3, 2), (2, 1, 3), (2, 3, 1), (3, 1, 2), (3, 2, 1)]\n"
          ],
          "name": "stdout"
        }
      ]
    },
    {
      "cell_type": "markdown",
      "metadata": {
        "id": "c7lB89yG1dWo",
        "colab_type": "text"
      },
      "source": [
        "Q12. Write the Python program to convert a pair of values into a sorted\n",
        "unique array?\n",
        " \n",
        "    Original List- [ (1, 2), (3, 4), (1, 2), (5, 6), (7, 8), (1, 2), (3, 4), (3, 4), (7, 8), (9, 10) ]\n",
        "    Sorted Unique Data- [ 1, 2, 3, 4, 5, 6, 7, 8, 9, 10 ] \n"
      ]
    },
    {
      "cell_type": "code",
      "metadata": {
        "id": "nPAoeJww1dWp",
        "colab_type": "code",
        "outputId": "b4481569-8281-4d5d-c290-f9c319a73af5",
        "colab": {
          "base_uri": "https://localhost:8080/",
          "height": 34
        }
      },
      "source": [
        "def sorted_array(list1):\n",
        "  answer = []\n",
        "  for i in range(0,len(list1)):\n",
        "      for j in range(2):\n",
        "        if list1[i][j] not in answer:\n",
        "          answer.append(list1[i][j])\n",
        "  answer = sorted(answer)\n",
        "  return answer\n",
        "\n",
        "print(sorted_array([ (1, 2), (3, 4), (1, 2), (5, 6), (7, 8), (1, 2), (3, 4), (3, 4), (7, 8), (9, 10) ]))"
      ],
      "execution_count": 0,
      "outputs": [
        {
          "output_type": "stream",
          "text": [
            "[1, 2, 3, 4, 5, 6, 7, 8, 9, 10]\n"
          ],
          "name": "stdout"
        }
      ]
    },
    {
      "cell_type": "markdown",
      "metadata": {
        "id": "_MYIko6t1dWt",
        "colab_type": "text"
      },
      "source": [
        "## Great job!"
      ]
    }
  ]
}