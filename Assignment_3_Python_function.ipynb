{
  "nbformat": 4,
  "nbformat_minor": 0,
  "metadata": {
    "kernelspec": {
      "display_name": "Python 3",
      "language": "python",
      "name": "python3"
    },
    "language_info": {
      "codemirror_mode": {
        "name": "ipython",
        "version": 3
      },
      "file_extension": ".py",
      "mimetype": "text/x-python",
      "name": "python",
      "nbconvert_exporter": "python",
      "pygments_lexer": "ipython3",
      "version": "3.7.4"
    },
    "colab": {
      "name": "Copy of Assignment 3 - Python function.ipynb",
      "provenance": []
    }
  },
  "cells": [
    {
      "cell_type": "markdown",
      "metadata": {
        "id": "xoFBXY5Hh852",
        "colab_type": "text"
      },
      "source": [
        "## Problem Statement"
      ]
    },
    {
      "cell_type": "markdown",
      "metadata": {
        "id": "OdK27XCDh85-",
        "colab_type": "text"
      },
      "source": [
        "Q.1 Write a function to compute 5/0 and use try/except to catch the exceptions."
      ]
    },
    {
      "cell_type": "code",
      "metadata": {
        "id": "6ktOXoGnh86B",
        "colab_type": "code",
        "outputId": "fbe14ab0-d5a5-483f-edd2-149ae7037de0",
        "colab": {
          "base_uri": "https://localhost:8080/",
          "height": 34
        }
      },
      "source": [
        "def divide(a,b):\n",
        "  return a/b\n",
        "\n",
        "try:\n",
        "  a=5\n",
        "  b=0\n",
        "  divide(a,b)\n",
        "except ZeroDivisionError as zero:\n",
        "  print(\"Divide by zero\")"
      ],
      "execution_count": 0,
      "outputs": [
        {
          "output_type": "stream",
          "text": [
            "Divide by zero\n"
          ],
          "name": "stdout"
        }
      ]
    },
    {
      "cell_type": "markdown",
      "metadata": {
        "id": "IEtjXqyfh86L",
        "colab_type": "text"
      },
      "source": [
        "Q.2 Implement a Python program to generate all sentences where subject is in [\"Americans\",\n",
        "\"Indians\"] and verb is in [\"Play\", \"watch\"] and the object is in [\"Baseball\",\"cricket\"].\n",
        "\n",
        "    Hint: Subject,Verb and Object should be declared in the program as shown below.\n",
        "    subjects=[\"Americans \",\"Indians\"]\n",
        "    verbs=[\"play\",\"watch\"]\n",
        "    objects=[\"Baseball\",\"Cricket\"]\n",
        "\n",
        "    Output should come as below:\n",
        "    Americans play Baseball.\n",
        "    Americans play Cricket.\n",
        "    Americans watch Baseball.\n",
        "    Americans watch Cricket.\n",
        "    Indians play Baseball.\n",
        "    Indians play Cricket.\n",
        "    Indians watch Baseball.\n",
        "    Indians watch Cricket."
      ]
    },
    {
      "cell_type": "code",
      "metadata": {
        "id": "4CGxovvOh86O",
        "colab_type": "code",
        "outputId": "d2aa35f8-1244-4acb-c58a-41545bdeacb1",
        "colab": {
          "base_uri": "https://localhost:8080/",
          "height": 151
        }
      },
      "source": [
        "subjects = [\"Americabs\",\"Indians\"]\n",
        "verbs = [\"play\",\"watch\"]\n",
        "objects = [\"Baseball\",\"Cricket\"]\n",
        "\n",
        "for sub in subjects:\n",
        "  for verb in verbs:\n",
        "    for obj in objects:\n",
        "      print(sub + \" \"+ verb + \" \"+ obj)"
      ],
      "execution_count": 0,
      "outputs": [
        {
          "output_type": "stream",
          "text": [
            "Americabs play Baseball\n",
            "Americabs play Cricket\n",
            "Americabs watch Baseball\n",
            "Americabs watch Cricket\n",
            "Indians play Baseball\n",
            "Indians play Cricket\n",
            "Indians watch Baseball\n",
            "Indians watch Cricket\n"
          ],
          "name": "stdout"
        }
      ]
    },
    {
      "cell_type": "markdown",
      "metadata": {
        "id": "k1dOQfeDh86V",
        "colab_type": "text"
      },
      "source": [
        "Q.3 Write a function so that the columns of the output matrix are powers of the input vector.\n",
        "The order of the powers is determined by the increasing boolean argument. Specifically, when\n",
        "increasing is False, the i-th output column is the input vector raised element-wise to the power\n",
        "of N - i - 1.\n",
        "\n",
        "    HINT: Such a matrix with a geometric progression in each row is named for Alexandre Theophile Vandermonde."
      ]
    },
    {
      "cell_type": "code",
      "metadata": {
        "id": "VzA_RlpfjviJ",
        "colab_type": "code",
        "outputId": "c19f1421-b4e0-41b1-881a-68ec3bc7c3b7",
        "colab": {
          "base_uri": "https://localhost:8080/",
          "height": 84
        }
      },
      "source": [
        "import numpy as np\n",
        "def vandermode(x,N):\n",
        "    output = np.vander(x,N)\n",
        "    print(output)\n",
        "\n",
        "x = np.array([1,2,3,4])\n",
        "N=3\n",
        "vandermode(x,N)\n"
      ],
      "execution_count": 0,
      "outputs": [
        {
          "output_type": "stream",
          "text": [
            "[[ 1  1  1]\n",
            " [ 4  2  1]\n",
            " [ 9  3  1]\n",
            " [16  4  1]]\n"
          ],
          "name": "stdout"
        }
      ]
    },
    {
      "cell_type": "code",
      "metadata": {
        "id": "hjACAaLVkbHo",
        "colab_type": "code",
        "outputId": "96c97979-47f5-41b2-bb25-198f097163ff",
        "colab": {
          "base_uri": "https://localhost:8080/",
          "height": 84
        }
      },
      "source": [
        "def custom_vandermode(x,N):\n",
        "    output = np.column_stack([x**(N-1-i) for i in range(N)])\n",
        "    print(output)\n",
        "  \n",
        "x = np.array([5,6,7,8])\n",
        "N=4\n",
        "custom_vandermode(x,N)"
      ],
      "execution_count": 0,
      "outputs": [
        {
          "output_type": "stream",
          "text": [
            "[[125  25   5   1]\n",
            " [216  36   6   1]\n",
            " [343  49   7   1]\n",
            " [512  64   8   1]]\n"
          ],
          "name": "stdout"
        }
      ]
    },
    {
      "cell_type": "code",
      "metadata": {
        "id": "9DOadUs-lJfa",
        "colab_type": "code",
        "colab": {}
      },
      "source": [
        ""
      ],
      "execution_count": 0,
      "outputs": []
    }
  ]
}